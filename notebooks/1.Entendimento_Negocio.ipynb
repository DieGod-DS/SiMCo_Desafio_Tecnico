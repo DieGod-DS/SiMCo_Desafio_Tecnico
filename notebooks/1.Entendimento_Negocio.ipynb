{
 "cells": [
  {
   "cell_type": "markdown",
   "id": "d6f67e66",
   "metadata": {},
   "source": [
    "# Entendimento de Negócio"
   ]
  },
  {
   "cell_type": "markdown",
   "id": "707b5594",
   "metadata": {},
   "source": [
    "**Contexto:**\n",
    "\n",
    "Você acabou de entrar na equipe de dados de uma empresa de assinaturas \n",
    "mensais. Foi identificada uma alta taxa de inadimplência (28%), e seu \n",
    "gerente precisa de um diagnóstico simples, mas confiável, da situação. A \n",
    "meta da empresa é reduzir esse índice para 15% nos próximos meses. \n",
    "\n",
    "Você recebeu uma base de clientes com dados com  500 clientes (dados \n",
    "fictícios). Sua missão será organizar, analisar e entregar um relatório claro e \n",
    "visual. "
   ]
  },
  {
   "cell_type": "markdown",
   "id": "62f5b4d0",
   "metadata": {},
   "source": [
    "**Objetivos:**\n",
    "1. Limpeza e Tratamento dos Dados (ETL) \n",
    "    - Fique livre para criar um banco de dados em SQLite e armazene a base de \n",
    "dados enviada. Caso não deseje criar o banco, pode carregar a base e realizar \n",
    "o tratamento.\n",
    "\n",
    "2. Análise Exploratória \n",
    "   - Nesta etapa demonstre suas habilidades técnicas informando as estatísticas dos dados, criação de camadas em seu banco, caso tenha criado banco, ou etapas caso você tenha preferido carregar a base (.csv) \n",
    "   - Cada etapa deve ser justificada, sem termos técnicos, exemplo: \n",
    "como você explicaria a uma pessoa que não entende nada sobre \n",
    "dados a transformação ou análise que você fez.  \n",
    "   - Crie todas as métricas possíveis que você enxerga ser capaz de \n",
    "tirar desta base. \n",
    "\n",
    "3. Relatório Executivo (1 página PDF) \n",
    "    - Principais achados (sem jargões técnicos). \n",
    "    - Alertas que chamaram atenção. \n",
    "    - O que pode ser feito para melhorar a inadimplência, detalhe um plano \n",
    "estratégico, queremos ouvir você. \n",
    "    - Expresse o sentimento que você tem dos clientes e o que você faria \n",
    "para tornar cada cliente Adimplente (A empresa tem recursos).  \n",
    "\n",
    "4. Visualização\n",
    "    - Taxa de inadimplência geral. (Obrigatório) \n",
    "    - Filtro por estado ou faixa etária.. (Obrigatório) \n",
    "    - Gráfico de distribuição da base.. (Obrigatório) \n",
    "    - Crie mais 6 métricas que você observa na base e que será útil para \n",
    "análise. (Essa etapa pode vir da exploração dos dados) (Opcional) \n"
   ]
  }
 ],
 "metadata": {
  "language_info": {
   "name": "python"
  }
 },
 "nbformat": 4,
 "nbformat_minor": 5
}
